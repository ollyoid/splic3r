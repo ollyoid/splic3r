{
 "cells": [
  {
   "cell_type": "markdown",
   "id": "ce6c28a7",
   "metadata": {},
   "source": [
    "## Splic3r Demo\n",
    "\n",
    "Splic3r is a python tool for the insertion of custom G-Code within pre-existing sliced files for the creation of 3D printed interactive devices with embedded printed circuit boards (PCBs).\n",
    "\n",
    "This is part of the Printegrated Circuits project, an academic demonstration of how a 3D printer can be used to make interactive parts with robust electrical connections between those parts and traditional PCB-based electronics. This demonstration is by no means ready for general use and is very rough around the edges. It should be taken as a proof-of-concept to guide others who wish to implement this kind of functionality in their own design flows rather than deployable tool.\n",
    "\n",
    "Currently it only works with the Prusa XL with files sliced by Prusa Slicer, a toolchanging 3d printer. It may be possible to modify this code to work with other printers, but toolchanging is still a non-standard process in 3-D printing, and requires different preinter-specific G-code commands to make it work.\n",
    "\n",
    "In this notebook we walk though the generation and insertion of custom G-code to create the electrical connections in these parts.\n",
    "\n",
    "This guide will take you though all the steps needed to design and insert functional electronics into your 3D Prints:\n",
    "- Electronics Design\n",
    "- Board export\n",
    "- 3D Modelling\n",
    "- printerconnection Usage\n",
    "- G-code insertion\n",
    "- Printing Process\n",
    "\n",
    "This was tested with files produced with PrusaSlicer2.7.4 and Printed on a 5-tool Prusa XL running firmware version 6.0.0"
   ]
  },
  {
   "cell_type": "markdown",
   "id": "d07a6bb0",
   "metadata": {},
   "source": [
    "## Step 1 - Electronics Design\n",
    "\n",
    "Printegrated circuits are fully embedded PCBs in 3D printed parts. The first step of designing a piece of 3D printed interactive hardware is therefore to have a circuit board to design around. You can either design your own PCB, or use an existing one. In the board library, we have a demo project. You can also design your own or import the design files into KICAD and use our plugin to export the right design files to complete the process.\n",
    "\n",
    "When designing boards consider:\n",
    "- Only placing components on one side so that the toolhead does not collide with the print\n",
    "- Ensuring parts don't protrude off the edge of the board which make part insertion fiddly\n",
    "- Maximize hole spacing - try to avoid holes less than 2.54mm apart"
   ]
  },
  {
   "cell_type": "markdown",
   "id": "a54b347d",
   "metadata": {},
   "source": [
    "## Step 2 - Board File Export\n",
    "\n",
    "### PCB STEP File\n",
    "from PCB Editor: File > Export > Step... Then use default export parameters\n",
    "\n",
    "### Drill Files\n",
    "From PCB Editor: Click the plotter icon, select \"Generate Drill Files\", then \"Generate Drill File\" in the new dialogue. Finally close both files.\n",
    "PTH drill file for generating custom moves\n",
    "\n",
    "In the Export directory, by default this is just the porject directory, you should now see a {project_name}-PTH.drl and a {project_name}-NPTH.drl. We're interested in the PTH (Plated Though Hole). This is the file that specifies to the drilling machine where to drill holes that will be plated with copper. We want this because it tells us the relative positions of holes are that we want to fill "
   ]
  },
  {
   "cell_type": "markdown",
   "id": "9fa031eb",
   "metadata": {},
   "source": []
  },
  {
   "cell_type": "markdown",
   "id": "d0d8b285",
   "metadata": {},
   "source": [
    "## Step 3 - 3D Modelling\n",
    "We want this process to be agnostic to modelling software for a number of reasons:\n",
    "- There exist projects that already insert electrodes and traces into 3d printed parts such as TODO: find capricate and other tools\n",
    "- Different applications need different design tools\n",
    "- By choosing one or creating our own we are limiting the scope of what might be possible with this toolset\n",
    "- Board layout needs to line up with bottom layer\n"
   ]
  },
  {
   "cell_type": "markdown",
   "id": "9fb4ab9d",
   "metadata": {},
   "source": [
    "## Step 4 -Slicing\n",
    "- TODO: Get INI file\n",
    "- Use Prusa Slicer 2.7.4\n",
    "- TODO: Find printer firmware version\n",
    "- No Bgcode"
   ]
  },
  {
   "cell_type": "markdown",
   "id": "659b681d",
   "metadata": {},
   "source": [
    "## Step 5 - Splic3r Usage \n",
    "\n",
    "This is really multiple steps. We've chosen to present the flow as a ipython notebook, so that people who wish to use the tool can get a better understanding of what's going on. The code only works for very specific examples for the time being, so opening it up in this way lets people understand what might be going wrong if they aren't getting the output thy expected.\n",
    "\n",
    "Before we start, we specify which files we'll be working on\n",
    "\n",
    "**drl** is the drill file for plated though holes (PTH) generated by KICAD. Normally it's for describing to a milling machine where to drill holes, but here we're using it to extract the coordinates of where to inject filament\n",
    "\n",
    "**in_gcode** is the output from the previous step\n",
    "\n",
    "**out_gcode** is where we want the final file"
   ]
  },
  {
   "cell_type": "code",
   "execution_count": 1,
   "id": "518d2975",
   "metadata": {},
   "outputs": [],
   "source": [
    "drl = \"../Characterisation/Characterisation_board_demo/Characterisation Board-PTH.drl\"\n",
    "in_gcode = \"../Characterisation/4 Point/First/4point.gcode\"\n",
    "out_gcode = \"../Characterisation/4 Point/First/out.gcode\""
   ]
  },
  {
   "cell_type": "code",
   "execution_count": 2,
   "id": "b36d03ee",
   "metadata": {},
   "outputs": [
    {
     "data": {
      "text/plain": [
       "<module 'splic3r.gcode' from 'c:\\\\Users\\\\Oliver\\\\OneDrive - University of Bristol\\\\PhD\\\\Print-and-Place\\\\printerconnect\\\\splic3r\\\\gcode.py'>"
      ]
     },
     "execution_count": 2,
     "metadata": {},
     "output_type": "execute_result"
    }
   ],
   "source": [
    "import numpy as np\n",
    "import splic3r.gcode\n",
    "import splic3r.drl\n",
    "from importlib import reload\n",
    "reload(splic3r.gcode)"
   ]
  },
  {
   "cell_type": "code",
   "execution_count": 3,
   "id": "7814a36e",
   "metadata": {},
   "outputs": [],
   "source": [
    "## Parse various data from the gcode file\n",
    "gcode = splic3r.gcode.GCode.from_file(in_gcode)"
   ]
  },
  {
   "cell_type": "code",
   "execution_count": 4,
   "id": "79186c9f",
   "metadata": {},
   "outputs": [],
   "source": [
    "## We're going to generate a list printer moves so we can plot them\n",
    "max_layers = gcode.lines[-1].state.layer\n",
    "layers = []\n",
    "for layer in range(1, max_layers+1):\n",
    "    # get all the lines where the layer number is right\n",
    "    lines = [line for line in gcode.lines if line.state.layer == layer]\n",
    "    paths = []\n",
    "    extruding = False\n",
    "    for i, line in enumerate(lines):\n",
    "        if line.state.extruding:\n",
    "            if not extruding:\n",
    "                paths.append(([lines[i-1].state.current_position]))\n",
    "            paths[-1].append(line.state.current_position)\n",
    "            extruding = True\n",
    "        else:\n",
    "            extruding = False\n",
    "    layers.append(list(map(np.array, paths)))"
   ]
  },
  {
   "cell_type": "code",
   "execution_count": 5,
   "id": "cc21a091",
   "metadata": {},
   "outputs": [],
   "source": [
    "## Calculate the bounding box of all the printer moves\n",
    "min_path_coords = np.array([np.inf, np.inf, np.inf])\n",
    "max_path_coords = np.array([-np.inf, -np.inf, -np.inf])\n",
    "\n",
    "for layer in layers:\n",
    "     for path in layer:\n",
    "         for point in path:\n",
    "                min_path_coords = np.minimum(min_path_coords, point)\n",
    "                max_path_coords = np.maximum(max_path_coords, point)\n",
    "\n",
    "path_midpoint = (min_path_coords + max_path_coords) / 2"
   ]
  },
  {
   "cell_type": "code",
   "execution_count": 6,
   "id": "b70b5ddb",
   "metadata": {},
   "outputs": [],
   "source": [
    "drill_file = splic3r.drl.DrillFile.from_file(drl)\n",
    "\n",
    "\n",
    "holes = drill_file.drills['T1']\n",
    "holes_array = np.array(holes)\n",
    "\n",
    "# Calculate the midpoint using NumPy\n",
    "min_holes_coords = holes_array.min(axis=0)\n",
    "max_holes_coords = holes_array.max(axis=0)\n",
    "hole_midpoint = (min_holes_coords + max_holes_coords) / 2"
   ]
  },
  {
   "cell_type": "code",
   "execution_count": 7,
   "id": "0c9edc08",
   "metadata": {},
   "outputs": [],
   "source": [
    "## A Class for the plot to keep track of the splice state\n",
    "\n",
    "class Splice:\n",
    "    def __init__(self, layers):\n",
    "        self.layer_num = 1\n",
    "        self.layers = layers\n",
    "        self.max_layer = len(layers)\n",
    "        self.hole_offset = np.array([0,0])\n",
    "        self.plot_offset = np.array([0,0])\n",
    "        self.mirrored = False\n",
    "    \n",
    "\n",
    "splice = Splice(layers)\n",
    "\n",
    "splice.hole_offset = path_midpoint[:2] - hole_midpoint"
   ]
  },
  {
   "cell_type": "code",
   "execution_count": 9,
   "id": "31247788",
   "metadata": {},
   "outputs": [
    {
     "name": "stderr",
     "output_type": "stream",
     "text": [
      "Matplotlib is building the font cache; this may take a moment.\n"
     ]
    },
    {
     "ename": "RuntimeError",
     "evalue": "'widget is not a recognised GUI loop or backend name",
     "output_type": "error",
     "traceback": [
      "\u001b[1;31m---------------------------------------------------------------------------\u001b[0m",
      "\u001b[1;31mRuntimeError\u001b[0m                              Traceback (most recent call last)",
      "File \u001b[1;32mc:\\Users\\Oliver\\OneDrive - University of Bristol\\PhD\\Print-and-Place\\printerconnect\\.venv\\Lib\\site-packages\\matplotlib\\backends\\registry.py:404\u001b[0m, in \u001b[0;36mBackendRegistry.resolve_gui_or_backend\u001b[1;34m(self, gui_or_backend)\u001b[0m\n\u001b[0;32m    403\u001b[0m \u001b[38;5;28;01mtry\u001b[39;00m:\n\u001b[1;32m--> 404\u001b[0m     \u001b[38;5;28;01mreturn\u001b[39;00m \u001b[38;5;28;43mself\u001b[39;49m\u001b[38;5;241;43m.\u001b[39;49m\u001b[43mresolve_backend\u001b[49m\u001b[43m(\u001b[49m\u001b[43mgui_or_backend\u001b[49m\u001b[43m)\u001b[49m\n\u001b[0;32m    405\u001b[0m \u001b[38;5;28;01mexcept\u001b[39;00m \u001b[38;5;167;01mException\u001b[39;00m:  \u001b[38;5;66;03m# KeyError ?\u001b[39;00m\n",
      "File \u001b[1;32mc:\\Users\\Oliver\\OneDrive - University of Bristol\\PhD\\Print-and-Place\\printerconnect\\.venv\\Lib\\site-packages\\matplotlib\\backends\\registry.py:367\u001b[0m, in \u001b[0;36mBackendRegistry.resolve_backend\u001b[1;34m(self, backend)\u001b[0m\n\u001b[0;32m    366\u001b[0m \u001b[38;5;28;01mif\u001b[39;00m gui \u001b[38;5;129;01mis\u001b[39;00m \u001b[38;5;28;01mNone\u001b[39;00m:\n\u001b[1;32m--> 367\u001b[0m     \u001b[38;5;28;01mraise\u001b[39;00m \u001b[38;5;167;01mRuntimeError\u001b[39;00m(\u001b[38;5;124mf\u001b[39m\u001b[38;5;124m\"\u001b[39m\u001b[38;5;124m'\u001b[39m\u001b[38;5;132;01m{\u001b[39;00mbackend\u001b[38;5;132;01m}\u001b[39;00m\u001b[38;5;124m'\u001b[39m\u001b[38;5;124m is not a recognised backend name\u001b[39m\u001b[38;5;124m\"\u001b[39m)\n\u001b[0;32m    369\u001b[0m \u001b[38;5;28;01mreturn\u001b[39;00m backend, gui \u001b[38;5;28;01mif\u001b[39;00m gui \u001b[38;5;241m!=\u001b[39m \u001b[38;5;124m\"\u001b[39m\u001b[38;5;124mheadless\u001b[39m\u001b[38;5;124m\"\u001b[39m \u001b[38;5;28;01melse\u001b[39;00m \u001b[38;5;28;01mNone\u001b[39;00m\n",
      "\u001b[1;31mRuntimeError\u001b[0m: 'widget' is not a recognised backend name",
      "\nDuring handling of the above exception, another exception occurred:\n",
      "\u001b[1;31mRuntimeError\u001b[0m                              Traceback (most recent call last)",
      "Cell \u001b[1;32mIn[9], line 3\u001b[0m\n\u001b[0;32m      1\u001b[0m \u001b[38;5;28;01mimport\u001b[39;00m \u001b[38;5;21;01mmatplotlib\u001b[39;00m\u001b[38;5;21;01m.\u001b[39;00m\u001b[38;5;21;01mpyplot\u001b[39;00m \u001b[38;5;28;01mas\u001b[39;00m \u001b[38;5;21;01mplt\u001b[39;00m\n\u001b[0;32m      2\u001b[0m \u001b[38;5;28;01mfrom\u001b[39;00m \u001b[38;5;21;01mmatplotlib\u001b[39;00m\u001b[38;5;21;01m.\u001b[39;00m\u001b[38;5;21;01mwidgets\u001b[39;00m \u001b[38;5;28;01mimport\u001b[39;00m Slider, Button\n\u001b[1;32m----> 3\u001b[0m \u001b[43mget_ipython\u001b[49m\u001b[43m(\u001b[49m\u001b[43m)\u001b[49m\u001b[38;5;241;43m.\u001b[39;49m\u001b[43mrun_line_magic\u001b[49m\u001b[43m(\u001b[49m\u001b[38;5;124;43m'\u001b[39;49m\u001b[38;5;124;43mmatplotlib\u001b[39;49m\u001b[38;5;124;43m'\u001b[39;49m\u001b[43m,\u001b[49m\u001b[43m \u001b[49m\u001b[38;5;124;43m'\u001b[39;49m\u001b[38;5;124;43mwidget\u001b[39;49m\u001b[38;5;124;43m'\u001b[39;49m\u001b[43m)\u001b[49m\n\u001b[0;32m      6\u001b[0m last_layer \u001b[38;5;241m=\u001b[39m splice\u001b[38;5;241m.\u001b[39mlayer_num\n\u001b[0;32m      8\u001b[0m fig, ax \u001b[38;5;241m=\u001b[39m plt\u001b[38;5;241m.\u001b[39msubplots(figsize\u001b[38;5;241m=\u001b[39m(\u001b[38;5;241m10\u001b[39m, \u001b[38;5;241m10\u001b[39m))\n",
      "File \u001b[1;32mc:\\Users\\Oliver\\OneDrive - University of Bristol\\PhD\\Print-and-Place\\printerconnect\\.venv\\Lib\\site-packages\\IPython\\core\\interactiveshell.py:2480\u001b[0m, in \u001b[0;36mInteractiveShell.run_line_magic\u001b[1;34m(self, magic_name, line, _stack_depth)\u001b[0m\n\u001b[0;32m   2478\u001b[0m     kwargs[\u001b[38;5;124m'\u001b[39m\u001b[38;5;124mlocal_ns\u001b[39m\u001b[38;5;124m'\u001b[39m] \u001b[38;5;241m=\u001b[39m \u001b[38;5;28mself\u001b[39m\u001b[38;5;241m.\u001b[39mget_local_scope(stack_depth)\n\u001b[0;32m   2479\u001b[0m \u001b[38;5;28;01mwith\u001b[39;00m \u001b[38;5;28mself\u001b[39m\u001b[38;5;241m.\u001b[39mbuiltin_trap:\n\u001b[1;32m-> 2480\u001b[0m     result \u001b[38;5;241m=\u001b[39m \u001b[43mfn\u001b[49m\u001b[43m(\u001b[49m\u001b[38;5;241;43m*\u001b[39;49m\u001b[43margs\u001b[49m\u001b[43m,\u001b[49m\u001b[43m \u001b[49m\u001b[38;5;241;43m*\u001b[39;49m\u001b[38;5;241;43m*\u001b[39;49m\u001b[43mkwargs\u001b[49m\u001b[43m)\u001b[49m\n\u001b[0;32m   2482\u001b[0m \u001b[38;5;66;03m# The code below prevents the output from being displayed\u001b[39;00m\n\u001b[0;32m   2483\u001b[0m \u001b[38;5;66;03m# when using magics with decorator @output_can_be_silenced\u001b[39;00m\n\u001b[0;32m   2484\u001b[0m \u001b[38;5;66;03m# when the last Python token in the expression is a ';'.\u001b[39;00m\n\u001b[0;32m   2485\u001b[0m \u001b[38;5;28;01mif\u001b[39;00m \u001b[38;5;28mgetattr\u001b[39m(fn, magic\u001b[38;5;241m.\u001b[39mMAGIC_OUTPUT_CAN_BE_SILENCED, \u001b[38;5;28;01mFalse\u001b[39;00m):\n",
      "File \u001b[1;32mc:\\Users\\Oliver\\OneDrive - University of Bristol\\PhD\\Print-and-Place\\printerconnect\\.venv\\Lib\\site-packages\\IPython\\core\\magics\\pylab.py:103\u001b[0m, in \u001b[0;36mPylabMagics.matplotlib\u001b[1;34m(self, line)\u001b[0m\n\u001b[0;32m     98\u001b[0m     \u001b[38;5;28mprint\u001b[39m(\n\u001b[0;32m     99\u001b[0m         \u001b[38;5;124m\"\u001b[39m\u001b[38;5;124mAvailable matplotlib backends: \u001b[39m\u001b[38;5;132;01m%s\u001b[39;00m\u001b[38;5;124m\"\u001b[39m\n\u001b[0;32m    100\u001b[0m         \u001b[38;5;241m%\u001b[39m _list_matplotlib_backends_and_gui_loops()\n\u001b[0;32m    101\u001b[0m     )\n\u001b[0;32m    102\u001b[0m \u001b[38;5;28;01melse\u001b[39;00m:\n\u001b[1;32m--> 103\u001b[0m     gui, backend \u001b[38;5;241m=\u001b[39m \u001b[38;5;28;43mself\u001b[39;49m\u001b[38;5;241;43m.\u001b[39;49m\u001b[43mshell\u001b[49m\u001b[38;5;241;43m.\u001b[39;49m\u001b[43menable_matplotlib\u001b[49m\u001b[43m(\u001b[49m\u001b[43margs\u001b[49m\u001b[38;5;241;43m.\u001b[39;49m\u001b[43mgui\u001b[49m\u001b[38;5;241;43m.\u001b[39;49m\u001b[43mlower\u001b[49m\u001b[43m(\u001b[49m\u001b[43m)\u001b[49m\u001b[43m \u001b[49m\u001b[38;5;28;43;01mif\u001b[39;49;00m\u001b[43m \u001b[49m\u001b[38;5;28;43misinstance\u001b[39;49m\u001b[43m(\u001b[49m\u001b[43margs\u001b[49m\u001b[38;5;241;43m.\u001b[39;49m\u001b[43mgui\u001b[49m\u001b[43m,\u001b[49m\u001b[43m \u001b[49m\u001b[38;5;28;43mstr\u001b[39;49m\u001b[43m)\u001b[49m\u001b[43m \u001b[49m\u001b[38;5;28;43;01melse\u001b[39;49;00m\u001b[43m \u001b[49m\u001b[43margs\u001b[49m\u001b[38;5;241;43m.\u001b[39;49m\u001b[43mgui\u001b[49m\u001b[43m)\u001b[49m\n\u001b[0;32m    104\u001b[0m     \u001b[38;5;28mself\u001b[39m\u001b[38;5;241m.\u001b[39m_show_matplotlib_backend(args\u001b[38;5;241m.\u001b[39mgui, backend)\n",
      "File \u001b[1;32mc:\\Users\\Oliver\\OneDrive - University of Bristol\\PhD\\Print-and-Place\\printerconnect\\.venv\\Lib\\site-packages\\IPython\\core\\interactiveshell.py:3665\u001b[0m, in \u001b[0;36mInteractiveShell.enable_matplotlib\u001b[1;34m(self, gui)\u001b[0m\n\u001b[0;32m   3662\u001b[0m     \u001b[38;5;28;01mimport\u001b[39;00m \u001b[38;5;21;01mmatplotlib_inline\u001b[39;00m\u001b[38;5;21;01m.\u001b[39;00m\u001b[38;5;21;01mbackend_inline\u001b[39;00m\n\u001b[0;32m   3664\u001b[0m \u001b[38;5;28;01mfrom\u001b[39;00m \u001b[38;5;21;01mIPython\u001b[39;00m\u001b[38;5;21;01m.\u001b[39;00m\u001b[38;5;21;01mcore\u001b[39;00m \u001b[38;5;28;01mimport\u001b[39;00m pylabtools \u001b[38;5;28;01mas\u001b[39;00m pt\n\u001b[1;32m-> 3665\u001b[0m gui, backend \u001b[38;5;241m=\u001b[39m \u001b[43mpt\u001b[49m\u001b[38;5;241;43m.\u001b[39;49m\u001b[43mfind_gui_and_backend\u001b[49m\u001b[43m(\u001b[49m\u001b[43mgui\u001b[49m\u001b[43m,\u001b[49m\u001b[43m \u001b[49m\u001b[38;5;28;43mself\u001b[39;49m\u001b[38;5;241;43m.\u001b[39;49m\u001b[43mpylab_gui_select\u001b[49m\u001b[43m)\u001b[49m\n\u001b[0;32m   3667\u001b[0m \u001b[38;5;28;01mif\u001b[39;00m gui \u001b[38;5;241m!=\u001b[39m \u001b[38;5;28;01mNone\u001b[39;00m:\n\u001b[0;32m   3668\u001b[0m     \u001b[38;5;66;03m# If we have our first gui selection, store it\u001b[39;00m\n\u001b[0;32m   3669\u001b[0m     \u001b[38;5;28;01mif\u001b[39;00m \u001b[38;5;28mself\u001b[39m\u001b[38;5;241m.\u001b[39mpylab_gui_select \u001b[38;5;129;01mis\u001b[39;00m \u001b[38;5;28;01mNone\u001b[39;00m:\n",
      "File \u001b[1;32mc:\\Users\\Oliver\\OneDrive - University of Bristol\\PhD\\Print-and-Place\\printerconnect\\.venv\\Lib\\site-packages\\IPython\\core\\pylabtools.py:349\u001b[0m, in \u001b[0;36mfind_gui_and_backend\u001b[1;34m(gui, gui_select)\u001b[0m\n\u001b[0;32m    347\u001b[0m \u001b[38;5;28;01melse\u001b[39;00m:\n\u001b[0;32m    348\u001b[0m     gui \u001b[38;5;241m=\u001b[39m _convert_gui_to_matplotlib(gui)\n\u001b[1;32m--> 349\u001b[0m     backend, gui \u001b[38;5;241m=\u001b[39m \u001b[43mbackend_registry\u001b[49m\u001b[38;5;241;43m.\u001b[39;49m\u001b[43mresolve_gui_or_backend\u001b[49m\u001b[43m(\u001b[49m\u001b[43mgui\u001b[49m\u001b[43m)\u001b[49m\n\u001b[0;32m    351\u001b[0m gui \u001b[38;5;241m=\u001b[39m _convert_gui_from_matplotlib(gui)\n\u001b[0;32m    352\u001b[0m \u001b[38;5;28;01mreturn\u001b[39;00m gui, backend\n",
      "File \u001b[1;32mc:\\Users\\Oliver\\OneDrive - University of Bristol\\PhD\\Print-and-Place\\printerconnect\\.venv\\Lib\\site-packages\\matplotlib\\backends\\registry.py:406\u001b[0m, in \u001b[0;36mBackendRegistry.resolve_gui_or_backend\u001b[1;34m(self, gui_or_backend)\u001b[0m\n\u001b[0;32m    404\u001b[0m     \u001b[38;5;28;01mreturn\u001b[39;00m \u001b[38;5;28mself\u001b[39m\u001b[38;5;241m.\u001b[39mresolve_backend(gui_or_backend)\n\u001b[0;32m    405\u001b[0m \u001b[38;5;28;01mexcept\u001b[39;00m \u001b[38;5;167;01mException\u001b[39;00m:  \u001b[38;5;66;03m# KeyError ?\u001b[39;00m\n\u001b[1;32m--> 406\u001b[0m     \u001b[38;5;28;01mraise\u001b[39;00m \u001b[38;5;167;01mRuntimeError\u001b[39;00m(\n\u001b[0;32m    407\u001b[0m         \u001b[38;5;124mf\u001b[39m\u001b[38;5;124m\"\u001b[39m\u001b[38;5;124m'\u001b[39m\u001b[38;5;132;01m{\u001b[39;00mgui_or_backend\u001b[38;5;132;01m}\u001b[39;00m\u001b[38;5;124m is not a recognised GUI loop or backend name\u001b[39m\u001b[38;5;124m\"\u001b[39m)\n",
      "\u001b[1;31mRuntimeError\u001b[0m: 'widget is not a recognised GUI loop or backend name"
     ]
    }
   ],
   "source": [
    "import matplotlib.pyplot as plt\n",
    "from matplotlib.widgets import Slider, Button\n",
    "%matplotlib widget\n",
    "\n",
    "\n",
    "last_layer = splice.layer_num\n",
    "\n",
    "fig, ax = plt.subplots(figsize=(10, 10))\n",
    "fig.subplots_adjust(left=0.25, bottom=0.25)\n",
    "ax.set_aspect('equal', adjustable='box')\n",
    "plt.title('Slice Viewer')\n",
    "plt.xlabel('X (mm)')\n",
    "plt.ylabel('Y (mm)')\n",
    "\n",
    "# Set the plot area to be +-5 of the min and max path coordinates\n",
    "min_x = min_path_coords[0] - 5\n",
    "max_x = max_path_coords[0] + 5\n",
    "min_y = min_path_coords[1] - 5\n",
    "max_y = max_path_coords[1] + 5\n",
    "ax.set_xlim(min_x, max_x)\n",
    "ax.set_ylim(min_y, max_y)\n",
    "\n",
    "## Pre-plot all the paths, just set them to be invisible\n",
    "layer_plots = []\n",
    "for layer in splice.layers:\n",
    "    layer_plot = []\n",
    "    for path in layer:\n",
    "        if len(path) > 0:\n",
    "            path = np.array(path)\n",
    "            plot_lines = ax.plot(path[:,0], path[:,1], color='blue', linewidth=0.5, visible=False)\n",
    "        layer_plot.append(plot_lines)\n",
    "    layer_plots.append(layer_plot)\n",
    "\n",
    "# Make a vertically oriented slider\n",
    "axlayer = fig.add_axes([0.1, 0.25, 0.0225, 0.63])\n",
    "layer_slider = Slider(\n",
    "    ax=axlayer,\n",
    "    label=\"Layer\",\n",
    "    valmin=1,\n",
    "    valmax=splice.max_layer,\n",
    "    valinit=splice.layer_num,\n",
    "    valstep=1,  # Set the step size to 1 for discrete integer intervals\n",
    "    orientation=\"vertical\"\n",
    ")\n",
    "\n",
    "# The function to be called anytime a slider's value changes\n",
    "def update_layer(val):\n",
    "    global last_layer\n",
    "    splice.layer_num = int(val)\n",
    "    last_layer_plot = layer_plots[last_layer-1]\n",
    "    for line in last_layer_plot:\n",
    "        for l in line:\n",
    "            l.set_visible(False)\n",
    "    layer_plot = layer_plots[val-1]\n",
    "    for line in layer_plot:\n",
    "        for l in line:\n",
    "            l.set_visible(True)\n",
    "    last_layer = val\n",
    "\n",
    "layer_slider.on_changed(update_layer)\n",
    "update_layer(splice.layer_num)\n",
    "\n",
    "holes_scatter = None\n",
    "\n",
    "def flip(points, midpoint):\n",
    "    # only flip in x-axis\n",
    "    return np.array([[point[0], midpoint[1] - (point[1] - midpoint[1])] for point in points])\n",
    "\n",
    "def scatter_holes():\n",
    "    global holes_scatter\n",
    "    if holes_scatter is not None:\n",
    "        holes_scatter.remove()\n",
    "    flipped = flip(holes_array, hole_midpoint) if splice.mirrored else holes_array\n",
    "    transformed_holes = flipped + splice.hole_offset + splice.plot_offset\n",
    "    holes_scatter = ax.scatter(transformed_holes[:,0], transformed_holes[:,1], color='red', s=5, zorder=1)\n",
    "\n",
    "scatter_holes()\n",
    "\n",
    "x_lims = ax.get_xlim()\n",
    "y_lims = ax.get_ylim()\n",
    "\n",
    "x_range = x_lims[1]-x_lims[0]\n",
    "y_range = y_lims[1]-y_lims[0]\n",
    "\n",
    "\n",
    "# Add a horizontally oriented slider for the X offset\n",
    "x_offset_ax = fig.add_axes([0.25, 0.1, 0.65, 0.03])\n",
    "x_offset_slider = None\n",
    "\n",
    "# Add a vertically oriented slider for the Y offset\n",
    "y_offset_ax = fig.add_axes([0.95, 0.25, 0.0225, 0.63])\n",
    "y_offset_slider = None\n",
    "\n",
    "# The function to be called anytime the slider's value changes\n",
    "def update_offset(val):\n",
    "    splice.plot_offset = np.array([x_offset_slider.val, y_offset_slider.val])\n",
    "    scatter_holes()\n",
    "    fig.canvas.draw_idle()\n",
    "\n",
    "def draw_sliders():\n",
    "    global x_offset_slider, x_offset_ax, y_offset_slider, y_offset_ax\n",
    "    if x_offset_slider is not None:\n",
    "        x_centre = x_offset_slider.val\n",
    "    else:\n",
    "        x_centre = 0\n",
    "    \n",
    "    if y_offset_slider is not None:\n",
    "        y_centre = y_offset_slider.val\n",
    "    else:\n",
    "        y_centre = 0\n",
    "\n",
    "    x_lims = ax.get_xlim()\n",
    "    y_lims = ax.get_ylim()\n",
    "    x_range = x_lims[1]-x_lims[0]\n",
    "    y_range = y_lims[1]-y_lims[0]\n",
    "    \n",
    "    x_offset_ax.clear()\n",
    "    x_offset_slider = Slider(\n",
    "        ax=x_offset_ax,\n",
    "        label=\"X-Offset\",\n",
    "        valmin=x_centre - x_range/2,\n",
    "        valmax=x_centre + x_range/2,\n",
    "        valinit=x_centre,\n",
    "        valstep=0.05,\n",
    "        orientation=\"horizontal\"\n",
    "    )\n",
    "    x_offset_slider.on_changed(update_offset)\n",
    "\n",
    "    y_offset_ax.clear()\n",
    "    y_offset_slider = Slider(\n",
    "        ax=y_offset_ax,\n",
    "        label=\"Y-Offset\",\n",
    "        valmin=y_centre - y_range/2,\n",
    "        valmax=y_centre + y_range/2,\n",
    "        valinit=y_centre,\n",
    "        valstep=0.05,\n",
    "        orientation=\"vertical\"\n",
    "    )\n",
    "    y_offset_slider.on_changed(update_offset)\n",
    "\n",
    "draw_sliders()\n",
    "\n",
    "def on_lim_changed(axes):\n",
    "    draw_sliders()\n",
    "\n",
    "ax.callbacks.connect('xlim_changed', on_lim_changed)\n",
    "ax.callbacks.connect('ylim_changed', on_lim_changed)\n",
    "\n",
    "# Add a button to set the slider.mirrored to true\n",
    "mirrored_button_ax = fig.add_axes([0.25, 0.05, 0.1, 0.04])\n",
    "mirrored_button = Button(mirrored_button_ax, 'Mirrored', color='lightgray')\n",
    "\n",
    "def set_mirrored(event):\n",
    "    splice.mirrored = not splice.mirrored\n",
    "    scatter_holes()\n",
    "\n",
    "mirrored_button.on_clicked(set_mirrored)\n",
    "\n",
    "plt.show()"
   ]
  },
  {
   "cell_type": "code",
   "execution_count": 72,
   "id": "879909c3",
   "metadata": {},
   "outputs": [
    {
     "name": "stdout",
     "output_type": "stream",
     "text": [
      "Injection to occur at layer  14\n",
      "Offset: [ 26.33344308 130.85794462]\n",
      "Mirrored:  False\n"
     ]
    }
   ],
   "source": [
    "print(\"Injection to occur at layer \", splice.layer_num)\n",
    "print(\"Offset:\", splice.hole_offset+splice.plot_offset)\n",
    "print(\"Mirrored: \", splice.mirrored)"
   ]
  },
  {
   "cell_type": "code",
   "execution_count": 73,
   "id": "cae0d1d3",
   "metadata": {},
   "outputs": [],
   "source": [
    "conductive_material_tool = 1"
   ]
  },
  {
   "cell_type": "code",
   "execution_count": 74,
   "id": "fa16f05a",
   "metadata": {},
   "outputs": [
    {
     "name": "stdout",
     "output_type": "stream",
     "text": [
      "Layer starts at line  58521\n",
      "Current tool is T 1\n",
      "Tool is correct\n"
     ]
    }
   ],
   "source": [
    "## get the index of the first line of the layer\n",
    "gen = enumerate(gcode.lines)\n",
    "splice_line_number, splice_line = next((i, line) for i, line in gen if line.state.layer == splice.layer_num)\n",
    "print(\"Layer starts at line \", splice_line_number +1)\n",
    "\n",
    "current_tool = splice_line.state.selected_tool\n",
    "print(\"Current tool is T\", current_tool)\n",
    "\n",
    "toolchange_required = (current_tool != conductive_material_tool)\n",
    "\n",
    "if not toolchange_required:\n",
    "    print(\"Tool is correct\")\n",
    "else:\n",
    "    print(\"Toolchange required to T\", conductive_material_tool)"
   ]
  },
  {
   "cell_type": "markdown",
   "id": "50d385f0",
   "metadata": {},
   "source": []
  },
  {
   "cell_type": "code",
   "execution_count": 75,
   "id": "fde894a8",
   "metadata": {},
   "outputs": [],
   "source": [
    "if toolchange_required:\n",
    "    current_tool = splice_line.state.selected_tool\n",
    "\n",
    "    layer_height = splice_line.state.layer_height\n",
    "    temps = list(map(float, gcode.lines[-1].state.var_dict[\"temperature\"].split(\",\")))\n",
    "\n",
    "    wipe_x = float(lines[-1].state.var_dict[\"wipe_tower_x\"])\n",
    "    wipe_y = float(lines[-1].state.var_dict[\"wipe_tower_y\"])\n",
    "\n",
    "    from_tool = current_tool\n",
    "    to_tool = conductive_material_tool\n",
    "\n",
    "\n",
    "    ## Depends on material and if it's doing ramming or not\n",
    "    retract = 20\n",
    "    deretract = 20\n",
    "\n",
    "\n",
    "    with open(\"gcode_samples/toolchange.gcode\", \"r\") as file:\n",
    "        to = [line.strip() for line in file.readlines()]\n",
    "        from_ = to.copy()\n",
    "\n",
    "\n",
    "\n",
    "    for i, line in enumerate(to):\n",
    "        to[i] = to[i].replace(\"[FROM_TOOL]\", str(from_tool))\n",
    "        to[i] = to[i].replace(\"[TO_TOOL]\", str(to_tool))\n",
    "        to[i] = to[i].replace(\"[LAYER_HEIGHT]\", str(layer_height))\n",
    "        to[i] = to[i].replace(\"[TO_TOOL_TEMP]\", str(temps[to_tool]))\n",
    "        # I don't really know what these do, but seems to position the nozzle after the toolchange\n",
    "        to[i] = to[i].replace(\"[WIPE_X1]\", str(wipe_x - 0.25))\n",
    "        to[i] = to[i].replace(\"[WIPE_Y1]\", str(wipe_y + 0.25))\t\n",
    "        to[i] = to[i].replace(\"[WIPE_X2]\", str(wipe_x - 1.75))\n",
    "        to[i] = to[i].replace(\"[WIPE_Y2]\", str(wipe_y - 0.75))\n",
    "        to[i] = to[i].replace(\"[RETRACT]\", str(retract))\n",
    "        to[i] = to[i].replace(\"[DE_RETRACT]\", str(deretract))\n",
    "\n",
    "\n",
    "\n",
    "    for i, line in enumerate(from_):\n",
    "        from_[i] = from_[i].replace(\"[FROM_TOOL]\", str(to_tool))\n",
    "        from_[i] = from_[i].replace(\"[TO_TOOL]\", str(from_tool))\n",
    "        from_[i] = from_[i].replace(\"[LAYER_HEIGHT]\", str(layer_height))\n",
    "        from_[i] = from_[i].replace(\"[TO_TOOL_TEMP]\", str(temps[from_tool]))\n",
    "        # I don't really know what these do, but seems to position the nozzle after the toolchange\n",
    "        from_[i] = from_[i].replace(\"[WIPE_X1]\", str(wipe_x - 0.25))\n",
    "        from_[i] = from_[i].replace(\"[WIPE_Y1]\", str(wipe_y + 0.25))\t\n",
    "        from_[i] = from_[i].replace(\"[WIPE_X2]\", str(wipe_x - 1.75))\n",
    "        from_[i] = from_[i].replace(\"[WIPE_Y2]\", str(wipe_y - 0.75))\n",
    "        from_[i] = from_[i].replace(\"[RETRACT]\", str(retract))\n",
    "        from_[i] = from_[i].replace(\"[DE_RETRACT]\", str(deretract))\n",
    "\n",
    "    ## We're just going to copy  the next wipe section to re-use it\n",
    "\n",
    "    ## First use the generator to get tot the section where the wipe starts\n",
    "    wipe_line = next(line.line for i, line in gen if line.state.mode == 'tool_wipe')\n",
    "\n",
    "    ## wipe lines ae then all the lines until the mode is no longer 'tool_wipe'\n",
    "    wipe_lines = [wipe_line]\n",
    "    for i, line in gen:\n",
    "        if line.state.mode == 'tool_wipe':\n",
    "            wipe_lines.append(line.line)\n",
    "        else:\n",
    "            wipe_lines.append(line.line)\n",
    "            break\n",
    "    print (wipe_lines)\n",
    "else:\n",
    "    to = []\n",
    "    from_ = []\n",
    "    wipe_lines = []\n",
    "\n"
   ]
  },
  {
   "cell_type": "code",
   "execution_count": null,
   "id": "45412a76",
   "metadata": {},
   "outputs": [],
   "source": [
    "\n"
   ]
  },
  {
   "cell_type": "markdown",
   "id": "773b3aa5",
   "metadata": {},
   "source": [
    "We also need to get the retract length from the file TODO: Explain why"
   ]
  },
  {
   "cell_type": "code",
   "execution_count": 76,
   "id": "466b1ce8",
   "metadata": {},
   "outputs": [
    {
     "name": "stdout",
     "output_type": "stream",
     "text": [
      "0.8\n"
     ]
    }
   ],
   "source": [
    "retract_length = float(gcode.lines[-1].state.var_dict[\"retract_length\"].split(\",\")[from_tool])\n",
    "\n",
    "print(retract_length)"
   ]
  },
  {
   "cell_type": "markdown",
   "id": "62020ea0",
   "metadata": {},
   "source": [
    "Finally We can generate the toolpaths."
   ]
  },
  {
   "cell_type": "code",
   "execution_count": 77,
   "id": "77bafb3b",
   "metadata": {},
   "outputs": [
    {
     "name": "stdout",
     "output_type": "stream",
     "text": [
      "[105.243, 29.655, 2.6]\n",
      "['M104 S240', 'M104 S240', 'G1 E-7.5 F4200', 'G0 Z7.6 F4200', 'G0 X130.4734 Y77.5179 Z7.6F4200', 'G0 Z2.55 F4200', 'G1 E7.5 F4200', 'G1 E0.48 F4200', 'G4 P1000', 'G1 E-7.5 F4200', 'G4 P1000', 'G0 X131.4734 Y77.5179 F4200', 'G0 Z7.6F4200', 'G0 X130.4734 Y74.9779 Z7.6F4200', 'G0 Z2.55 F4200', 'G1 E7.5 F4200', 'G1 E0.48 F4200', 'G4 P1000', 'G1 E-7.5 F4200', 'G4 P1000', 'G0 X131.4734 Y74.9779 F4200', 'G0 Z7.6F4200', 'G0 X130.4734 Y72.4379 Z7.6F4200', 'G0 Z2.55 F4200', 'G1 E7.5 F4200', 'G1 E0.48 F4200', 'G4 P1000', 'G1 E-7.5 F4200', 'G4 P1000', 'G0 X131.4734 Y72.4379 F4200', 'G0 Z7.6F4200', 'G0 X130.4734 Y69.8979 Z7.6F4200', 'G0 Z2.55 F4200', 'G1 E7.5 F4200', 'G1 E0.48 F4200', 'G4 P1000', 'G1 E-7.5 F4200', 'G4 P1000', 'G0 X131.4734 Y69.8979 F4200', 'G0 Z7.6F4200', 'G0 X130.4734 Y67.3579 Z7.6F4200', 'G0 Z2.55 F4200', 'G1 E7.5 F4200', 'G1 E0.48 F4200', 'G4 P1000', 'G1 E-7.5 F4200', 'G4 P1000', 'G0 X131.4734 Y67.3579 F4200', 'G0 Z7.6F4200', 'G0 X130.4734 Y64.8179 Z7.6F4200', 'G0 Z2.55 F4200', 'G1 E7.5 F4200', 'G1 E0.48 F4200', 'G4 P1000', 'G1 E-7.5 F4200', 'G4 P1000', 'G0 X131.4734 Y64.8179 F4200', 'G0 Z7.6F4200', 'G0 X130.4734 Y62.2779 Z7.6F4200', 'G0 Z2.55 F4200', 'G1 E7.5 F4200', 'G1 E0.48 F4200', 'G4 P1000', 'G1 E-7.5 F4200', 'G4 P1000', 'G0 X131.4734 Y62.2779 F4200', 'G0 Z7.6F4200', 'G0 X130.4734 Y59.7379 Z7.6F4200', 'G0 Z2.55 F4200', 'G1 E7.5 F4200', 'G1 E0.48 F4200', 'G4 P1000', 'G1 E-7.5 F4200', 'G4 P1000', 'G0 X131.4734 Y59.7379 F4200', 'G0 Z7.6F4200', 'G0 X130.4734 Y57.1979 Z7.6F4200', 'G0 Z2.55 F4200', 'G1 E7.5 F4200', 'G1 E0.48 F4200', 'G4 P1000', 'G1 E-7.5 F4200', 'G4 P1000', 'G0 X131.4734 Y57.1979 F4200', 'G0 Z7.6F4200', 'G0 X130.4734 Y54.6579 Z7.6F4200', 'G0 Z2.55 F4200', 'G1 E7.5 F4200', 'G1 E0.48 F4200', 'G4 P1000', 'G1 E-7.5 F4200', 'G4 P1000', 'G0 X131.4734 Y54.6579 F4200', 'G0 Z7.6F4200', 'G0 X130.4734 Y52.1179 Z7.6F4200', 'G0 Z2.55 F4200', 'G1 E7.5 F4200', 'G1 E0.48 F4200', 'G4 P1000', 'G1 E-7.5 F4200', 'G4 P1000', 'G0 X131.4734 Y52.1179 F4200', 'G0 Z7.6F4200', 'G0 X130.4734 Y49.5779 Z7.6F4200', 'G0 Z2.55 F4200', 'G1 E7.5 F4200', 'G1 E0.48 F4200', 'G4 P1000', 'G1 E-7.5 F4200', 'G4 P1000', 'G0 X131.4734 Y49.5779 F4200', 'G0 Z7.6F4200', 'G0 X130.4734 Y47.0379 Z7.6F4200', 'G0 Z2.55 F4200', 'G1 E7.5 F4200', 'G1 E0.48 F4200', 'G4 P1000', 'G1 E-7.5 F4200', 'G4 P1000', 'G0 X131.4734 Y47.0379 F4200', 'G0 Z7.6F4200', 'G0 X130.4734 Y44.4979 Z7.6F4200', 'G0 Z2.55 F4200', 'G1 E7.5 F4200', 'G1 E0.48 F4200', 'G4 P1000', 'G1 E-7.5 F4200', 'G4 P1000', 'G0 X131.4734 Y44.4979 F4200', 'G0 Z7.6F4200', 'G0 X130.4734 Y41.9579 Z7.6F4200', 'G0 Z2.55 F4200', 'G1 E7.5 F4200', 'G1 E0.48 F4200', 'G4 P1000', 'G1 E-7.5 F4200', 'G4 P1000', 'G0 X131.4734 Y41.9579 F4200', 'G0 Z7.6F4200', 'G0 X130.4734 Y39.4179 Z7.6F4200', 'G0 Z2.55 F4200', 'G1 E7.5 F4200', 'G1 E0.48 F4200', 'G4 P1000', 'G1 E-7.5 F4200', 'G4 P1000', 'G0 X131.4734 Y39.4179 F4200', 'G0 Z7.6F4200', 'G0 X130.4734 Y36.8779 Z7.6F4200', 'G0 Z2.55 F4200', 'G1 E7.5 F4200', 'G1 E0.48 F4200', 'G4 P1000', 'G1 E-7.5 F4200', 'G4 P1000', 'G0 X131.4734 Y36.8779 F4200', 'G0 Z7.6F4200', 'G0 X130.4734 Y34.3379 Z7.6F4200', 'G0 Z2.55 F4200', 'G1 E7.5 F4200', 'G1 E0.48 F4200', 'G4 P1000', 'G1 E-7.5 F4200', 'G4 P1000', 'G0 X131.4734 Y34.3379 F4200', 'G0 Z7.6F4200', 'G0 X130.4734 Y31.7979 Z7.6F4200', 'G0 Z2.55 F4200', 'G1 E7.5 F4200', 'G1 E0.48 F4200', 'G4 P1000', 'G1 E-7.5 F4200', 'G4 P1000', 'G0 X131.4734 Y31.7979 F4200', 'G0 Z7.6F4200', 'G0 X130.4734 Y29.2579 Z7.6F4200', 'G0 Z2.55 F4200', 'G1 E7.5 F4200', 'G1 E0.48 F4200', 'G4 P1000', 'G1 E-7.5 F4200', 'G4 P1000', 'G0 X131.4734 Y29.2579 F4200', 'G0 Z7.6F4200', 'G0 X153.3334 Y77.5179 Z7.6F4200', 'G0 Z2.55 F4200', 'G1 E7.5 F4200', 'G1 E0.48 F4200', 'G4 P1000', 'G1 E-7.5 F4200', 'G4 P1000', 'G0 X154.3334 Y77.5179 F4200', 'G0 Z7.6F4200', 'G0 X153.3334 Y74.9779 Z7.6F4200', 'G0 Z2.55 F4200', 'G1 E7.5 F4200', 'G1 E0.48 F4200', 'G4 P1000', 'G1 E-7.5 F4200', 'G4 P1000', 'G0 X154.3334 Y74.9779 F4200', 'G0 Z7.6F4200', 'G0 X153.3334 Y72.4379 Z7.6F4200', 'G0 Z2.55 F4200', 'G1 E7.5 F4200', 'G1 E0.48 F4200', 'G4 P1000', 'G1 E-7.5 F4200', 'G4 P1000', 'G0 X154.3334 Y72.4379 F4200', 'G0 Z7.6F4200', 'G0 X153.3334 Y69.8979 Z7.6F4200', 'G0 Z2.55 F4200', 'G1 E7.5 F4200', 'G1 E0.48 F4200', 'G4 P1000', 'G1 E-7.5 F4200', 'G4 P1000', 'G0 X154.3334 Y69.8979 F4200', 'G0 Z7.6F4200', 'G0 X153.3334 Y67.3579 Z7.6F4200', 'G0 Z2.55 F4200', 'G1 E7.5 F4200', 'G1 E0.48 F4200', 'G4 P1000', 'G1 E-7.5 F4200', 'G4 P1000', 'G0 X154.3334 Y67.3579 F4200', 'G0 Z7.6F4200', 'G0 X153.3334 Y64.8179 Z7.6F4200', 'G0 Z2.55 F4200', 'G1 E7.5 F4200', 'G1 E0.48 F4200', 'G4 P1000', 'G1 E-7.5 F4200', 'G4 P1000', 'G0 X154.3334 Y64.8179 F4200', 'G0 Z7.6F4200', 'G0 X153.3334 Y62.2779 Z7.6F4200', 'G0 Z2.55 F4200', 'G1 E7.5 F4200', 'G1 E0.48 F4200', 'G4 P1000', 'G1 E-7.5 F4200', 'G4 P1000', 'G0 X154.3334 Y62.2779 F4200', 'G0 Z7.6F4200', 'G0 X153.3334 Y59.7379 Z7.6F4200', 'G0 Z2.55 F4200', 'G1 E7.5 F4200', 'G1 E0.48 F4200', 'G4 P1000', 'G1 E-7.5 F4200', 'G4 P1000', 'G0 X154.3334 Y59.7379 F4200', 'G0 Z7.6F4200', 'G0 X153.3334 Y57.1979 Z7.6F4200', 'G0 Z2.55 F4200', 'G1 E7.5 F4200', 'G1 E0.48 F4200', 'G4 P1000', 'G1 E-7.5 F4200', 'G4 P1000', 'G0 X154.3334 Y57.1979 F4200', 'G0 Z7.6F4200', 'G0 X153.3334 Y54.6579 Z7.6F4200', 'G0 Z2.55 F4200', 'G1 E7.5 F4200', 'G1 E0.48 F4200', 'G4 P1000', 'G1 E-7.5 F4200', 'G4 P1000', 'G0 X154.3334 Y54.6579 F4200', 'G0 Z7.6F4200', 'G0 X153.3334 Y52.1179 Z7.6F4200', 'G0 Z2.55 F4200', 'G1 E7.5 F4200', 'G1 E0.48 F4200', 'G4 P1000', 'G1 E-7.5 F4200', 'G4 P1000', 'G0 X154.3334 Y52.1179 F4200', 'G0 Z7.6F4200', 'G0 X153.3334 Y49.5779 Z7.6F4200', 'G0 Z2.55 F4200', 'G1 E7.5 F4200', 'G1 E0.48 F4200', 'G4 P1000', 'G1 E-7.5 F4200', 'G4 P1000', 'G0 X154.3334 Y49.5779 F4200', 'G0 Z7.6F4200', 'G0 X153.3334 Y47.0379 Z7.6F4200', 'G0 Z2.55 F4200', 'G1 E7.5 F4200', 'G1 E0.48 F4200', 'G4 P1000', 'G1 E-7.5 F4200', 'G4 P1000', 'G0 X154.3334 Y47.0379 F4200', 'G0 Z7.6F4200', 'G0 X153.3334 Y44.4979 Z7.6F4200', 'G0 Z2.55 F4200', 'G1 E7.5 F4200', 'G1 E0.48 F4200', 'G4 P1000', 'G1 E-7.5 F4200', 'G4 P1000', 'G0 X154.3334 Y44.4979 F4200', 'G0 Z7.6F4200', 'G0 X153.3334 Y41.9579 Z7.6F4200', 'G0 Z2.55 F4200', 'G1 E7.5 F4200', 'G1 E0.48 F4200', 'G4 P1000', 'G1 E-7.5 F4200', 'G4 P1000', 'G0 X154.3334 Y41.9579 F4200', 'G0 Z7.6F4200', 'G0 X153.3334 Y39.4179 Z7.6F4200', 'G0 Z2.55 F4200', 'G1 E7.5 F4200', 'G1 E0.48 F4200', 'G4 P1000', 'G1 E-7.5 F4200', 'G4 P1000', 'G0 X154.3334 Y39.4179 F4200', 'G0 Z7.6F4200', 'G0 X153.3334 Y36.8779 Z7.6F4200', 'G0 Z2.55 F4200', 'G1 E7.5 F4200', 'G1 E0.48 F4200', 'G4 P1000', 'G1 E-7.5 F4200', 'G4 P1000', 'G0 X154.3334 Y36.8779 F4200', 'G0 Z7.6F4200', 'G0 X153.3334 Y34.3379 Z7.6F4200', 'G0 Z2.55 F4200', 'G1 E7.5 F4200', 'G1 E0.48 F4200', 'G4 P1000', 'G1 E-7.5 F4200', 'G4 P1000', 'G0 X154.3334 Y34.3379 F4200', 'G0 Z7.6F4200', 'G0 X153.3334 Y31.7979 Z7.6F4200', 'G0 Z2.55 F4200', 'G1 E7.5 F4200', 'G1 E0.48 F4200', 'G4 P1000', 'G1 E-7.5 F4200', 'G4 P1000', 'G0 X154.3334 Y31.7979 F4200', 'G0 Z7.6F4200', 'G0 X153.3334 Y29.2579 Z7.6F4200', 'G0 Z2.55 F4200', 'G1 E7.5 F4200', 'G1 E0.48 F4200', 'G4 P1000', 'G1 E-7.5 F4200', 'G4 P1000', 'G0 X154.3334 Y29.2579 F4200', 'G0 Z7.6F4200', 'G0 X153.3334 Y29.2579 F4200', 'G0 Z2.6 F4200', 'M104 S220', 'G1 E6.7 F4200']\n"
     ]
    }
   ],
   "source": [
    "def generate_gcode_for_holes(holes, last_pos, extrusion_amount=0.48, retraction_amount=7.5, print_retraction=2.5):\n",
    "    x, y, z = last_pos\n",
    "    gcode = []\n",
    "    move_above_height = 5 + z  # Move 5mm above the last Z-height\n",
    "\n",
    "    z_down = round(z-0.05, 4)\n",
    "\n",
    "    # Set the temp a bit higher\n",
    "    gcode.append(f\"M104 S240\")\n",
    "\n",
    "    # Set the temp a bit higher\n",
    "    gcode.append(f\"M104 S240\")\n",
    "    # Retract a bit\n",
    "    gcode.append(f\"G1 E-{retraction_amount} F4200\")\n",
    "    # Move up a bit\n",
    "    gcode.append(f\"G0 Z{move_above_height} F4200\")\n",
    "    for x, y in holes:\n",
    "        x = round(x, 4)\n",
    "        y = round(y, 4)\n",
    "        # Move above the hole\n",
    "        gcode.append(f\"G0 X{x} Y{y} Z{move_above_height}F4200\")\n",
    "        # Lower down to the point\n",
    "        gcode.append(f\"G0 Z{z_down} F4200\")\n",
    "        # Un-retract\n",
    "        gcode.append(f\"G1 E{retraction_amount} F4200\")\n",
    "        # Extrude some plastic\n",
    "        gcode.append(f\"G1 E{extrusion_amount} F4200\")\n",
    "        # Wait for 1 second\n",
    "        gcode.append(f\"G4 P1000\")\n",
    "        # Retract a bit\n",
    "        gcode.append(f\"G1 E-{retraction_amount} F4200\")\n",
    "        # Wait for 1 second\n",
    "        gcode.append(f\"G4 P1000\")\n",
    "        #move a  mm to the right\n",
    "        gcode.append(f\"G0 X{x+1} Y{y} F4200\")\n",
    "        # Move up back to 5mm above before going to the next hole\n",
    "        gcode.append(f\"G0 Z{move_above_height}F4200\")\n",
    "    # Move back to the last x, y position\n",
    "    gcode.append(f\"G0 X{x} Y{y} F4200\")\n",
    "    # Move back to the last z position\n",
    "    gcode.append(f\"G0 Z{z} F4200\")\n",
    "\n",
    "    # Set the temp back to 220\n",
    "    gcode.append(f\"M104 S220\")\n",
    "    gcode.append(f\"G1 E{retraction_amount-print_retraction} F4200\")\n",
    "\n",
    "    return gcode\n",
    "\n",
    "\n",
    "last_coords = splice_line.state.current_position\t\n",
    "last_coords[2] = splice_line.state.layer_height\n",
    "\n",
    "print(last_coords)\n",
    "\n",
    "flipped = flip(holes_array, hole_midpoint) if splice.mirrored else holes_array\n",
    "transformed_holes = flipped + splice.hole_offset + splice.plot_offset\n",
    "\n",
    "toolpaths = generate_gcode_for_holes(transformed_holes, last_coords, print_retraction=retract_length)\n",
    "\n",
    "print(toolpaths)\n",
    "\n",
    "\n"
   ]
  },
  {
   "cell_type": "markdown",
   "id": "72112dd2",
   "metadata": {},
   "source": [
    "Finally we can stick it all together and safe it"
   ]
  },
  {
   "cell_type": "code",
   "execution_count": 78,
   "id": "673853dd",
   "metadata": {},
   "outputs": [],
   "source": [
    "pause = [\"M601 \\n\"]\n",
    "\n",
    "head = [line.line for line in gcode.lines[:splice_line_number]]\n",
    "tail = [line.line for line in gcode.lines[splice_line_number:]]\n",
    "\n",
    "lines = head + to + pause + wipe_lines + toolpaths  + from_ + wipe_lines + tail\n",
    "\n",
    "with open(out_gcode, 'w') as out_file: \n",
    "    out_file.write('; Spliced by Splic3r \\n')\n",
    "    out_file.write('\\n'.join(lines))\n"
   ]
  },
  {
   "cell_type": "markdown",
   "id": "b3d00ed5",
   "metadata": {},
   "source": [
    "## Step 6 - Printing\n",
    "Either Save the file to a USB stick, or run it from your computer using a gcode hosst like pronterface"
   ]
  },
  {
   "cell_type": "markdown",
   "id": "64c6e4a4",
   "metadata": {},
   "source": []
  },
  {
   "cell_type": "markdown",
   "id": "1cec0bb0",
   "metadata": {},
   "source": []
  }
 ],
 "metadata": {
  "kernelspec": {
   "display_name": "Python 3 (ipykernel)",
   "language": "python",
   "name": "python3"
  },
  "language_info": {
   "codemirror_mode": {
    "name": "ipython",
    "version": 3
   },
   "file_extension": ".py",
   "mimetype": "text/x-python",
   "name": "python",
   "nbconvert_exporter": "python",
   "pygments_lexer": "ipython3",
   "version": "3.12.4"
  }
 },
 "nbformat": 4,
 "nbformat_minor": 5
}
